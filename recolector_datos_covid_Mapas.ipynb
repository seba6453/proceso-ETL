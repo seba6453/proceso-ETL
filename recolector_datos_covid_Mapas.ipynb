{
 "cells": [
  {
   "cell_type": "markdown",
   "id": "d63fb07b",
   "metadata": {},
   "source": [
    "# **Proceso ETL de dato COVID-19**\n",
    "---\n",
    "Dentro de la empresa es necesario la obtencion de los datos del informe COVID-19 entregado por la autoridad sanitaria, para su posterior analisis a traves de graficos estadisticos.\n",
    "\n",
    "Los datos obtenidos provienen de repositorios pertenecientes al Ministerio de Ciencia y a Ivan Gonzales, ambos repositorios alojados en GitHub."
   ]
  },
  {
   "cell_type": "code",
   "execution_count": 1,
   "id": "41e4e889-614d-44ee-b01d-93889d63f3f4",
   "metadata": {},
   "outputs": [
    {
     "data": {
      "text/plain": [
       "'es_ES.UTF-8'"
      ]
     },
     "execution_count": 1,
     "metadata": {},
     "output_type": "execute_result"
    }
   ],
   "source": [
    "import pandas as pd\n",
    "import datetime as dt\n",
    "import numpy as np\n",
    "import locale\n",
    "locale.setlocale(locale.LC_TIME, 'es_ES.UTF-8')"
   ]
  },
  {
   "cell_type": "markdown",
   "id": "35fed648",
   "metadata": {},
   "source": [
    "Los datos que se obtienen pertenecen a los datos de casos activos y contagios diarios a nivel nacional, regiona y comunal, dentro de un periodo de tiempo establecido."
   ]
  },
  {
   "cell_type": "markdown",
   "id": "7e1cd318-4ea1-4305-963a-9707ba6b6f1e",
   "metadata": {
    "tags": []
   },
   "source": [
    "## Ingreso de parametros\n",
    "---"
   ]
  },
  {
   "cell_type": "markdown",
   "id": "93de7236",
   "metadata": {},
   "source": [
    "Para comenzar con el proceso, es necesario ingresar el numero de dias para determinar el periodo de tiempo de estudio.\n",
    "El periodo de tiempo se establece desde el dia de ayer hasta \"x\" dias atras, **por ejemplo, la fecha actual es 13-01-2022 y se establecen 30 dias de estudio, los datos obtenidos perteneceran al periodo entre 12-01-2022 y 13-12-2021, ambos inclusive.**"
   ]
  },
  {
   "cell_type": "code",
   "execution_count": 2,
   "id": "9b0ae40e-889d-4d33-94d2-dc0c15e7e6f1",
   "metadata": {},
   "outputs": [],
   "source": [
    "numero_dias = int(input(\"Ingrese el numero de dias: \"))"
   ]
  },
  {
   "cell_type": "code",
   "execution_count": 3,
   "id": "6cf2a336-69ff-45e7-96dc-1bafea233aa2",
   "metadata": {},
   "outputs": [],
   "source": [
    "periodo = dt.timedelta(days=numero_dias)\n",
    "fecha_final = dt.date.today() - dt.timedelta(days=1)\n",
    "fecha_inicial = fecha_final - periodo\n",
    "nombre_hoja = \"Hoja1\""
   ]
  },
  {
   "cell_type": "markdown",
   "id": "dfc68316-007f-43ce-bbc0-48d47c230913",
   "metadata": {
    "tags": []
   },
   "source": [
    "## Funciones necesarias\n",
    "---"
   ]
  },
  {
   "cell_type": "markdown",
   "id": "5b1d4681",
   "metadata": {},
   "source": [
    "*Funcion que setea un valor de la tupla en nulo si el valor es igual a la palabra ingresada*"
   ]
  },
  {
   "cell_type": "code",
   "execution_count": 4,
   "id": "56a60ae6",
   "metadata": {},
   "outputs": [],
   "source": [
    "def set_tupla(tupla,lista,columna):\n",
    "  if not tupla[columna] in lista:\n",
    "    tupla[columna] = np.nan\n",
    "  return tupla"
   ]
  },
  {
   "cell_type": "markdown",
   "id": "096b0899",
   "metadata": {},
   "source": [
    "*Funcion que retorna un date a partir de una fecha en string*"
   ]
  },
  {
   "cell_type": "code",
   "execution_count": 5,
   "id": "f37b4da6-b715-4a5f-b003-559b836fdcdb",
   "metadata": {
    "id": "wisXBRITEXpE"
   },
   "outputs": [],
   "source": [
    "def string_date(fecha_str):\n",
    "  fecha = fecha_str.split(\"-\")\n",
    "  if (len(fecha[0]) > 2):\n",
    "    fecha_str = fecha_str.split(\"-\")\n",
    "    return dt.date(int(fecha_str[0]),int(fecha_str[1]),int(fecha_str[2]))\n",
    "  return dt.date(int(fecha[2]),int(fecha[1]),int(fecha[0]))"
   ]
  },
  {
   "cell_type": "markdown",
   "id": "211327fd",
   "metadata": {},
   "source": [
    "*Funcion para setear los sw a None si una tupla no corresponde al periodo de fechas indicados, respecto a la columna asignada*"
   ]
  },
  {
   "cell_type": "code",
   "execution_count": 6,
   "id": "739d6cea-b301-435d-9071-12eddc552309",
   "metadata": {
    "id": "E67JuClQCnc-"
   },
   "outputs": [],
   "source": [
    "def set_sw(tupla,fecha1,fecha2,columna):\n",
    "  if tupla[columna] < fecha1 or tupla[columna] > fecha2:\n",
    "    tupla[\"sw\"] = None\n",
    "  return tupla"
   ]
  },
  {
   "cell_type": "markdown",
   "id": "53cd2be4",
   "metadata": {},
   "source": [
    "*Corrobora si una fecha es par o no*"
   ]
  },
  {
   "cell_type": "code",
   "execution_count": 7,
   "id": "496a8152-a238-4a9f-9fca-f0b95f99ab04",
   "metadata": {},
   "outputs": [],
   "source": [
    "def is_par(fecha):\n",
    "    return fecha.day % 2 == 0"
   ]
  },
  {
   "cell_type": "markdown",
   "id": "d56969f7",
   "metadata": {},
   "source": [
    "*Reemplaza las vocales con tilde*"
   ]
  },
  {
   "cell_type": "code",
   "execution_count": 8,
   "id": "29dbe130",
   "metadata": {},
   "outputs": [],
   "source": [
    "def normalize(s):\n",
    "    replacements = (\n",
    "        (\"á\", \"a\"),\n",
    "        (\"é\", \"e\"),\n",
    "        (\"í\", \"i\"),\n",
    "        (\"ó\", \"o\"),\n",
    "        (\"ú\", \"u\"),\n",
    "    )\n",
    "    for a, b in replacements:\n",
    "        s = s.replace(a, b).replace(a.upper(), b.upper())\n",
    "    return s"
   ]
  },
  {
   "cell_type": "markdown",
   "id": "b952f52d",
   "metadata": {},
   "source": [
    "*Reemplaza los tildes de las palabras de una lista*"
   ]
  },
  {
   "cell_type": "code",
   "execution_count": 9,
   "id": "b142afa1",
   "metadata": {},
   "outputs": [],
   "source": [
    "def reemplazar_tildes(lista):\n",
    "    columnas = list(lista)\n",
    "    for i in range(len(columnas)):\n",
    "        columnas[i] = normalize(columnas[i])\n",
    "    return columnas"
   ]
  },
  {
   "cell_type": "markdown",
   "id": "6afdb923-076f-41a3-8791-15d62fdde0b1",
   "metadata": {
    "jp-MarkdownHeadingCollapsed": true,
    "tags": []
   },
   "source": [
    "## Archivo Contagios Diarios Regional\n",
    "---"
   ]
  },
  {
   "cell_type": "markdown",
   "id": "565a6a36",
   "metadata": {},
   "source": [
    "En esta seccion se comienza a extraer los datos del archivo 'CasosNuevosCumulativos_T.csv' para su posterior tratamiento."
   ]
  },
  {
   "cell_type": "code",
   "execution_count": 10,
   "id": "1446a1eb-7241-4cab-82f3-e1de30cc7c16",
   "metadata": {},
   "outputs": [],
   "source": [
    "df_casos_nuevos_acumulativos = pd.read_csv('https://raw.githubusercontent.com/MinCiencia/Datos-COVID19/master/output/producto13/CasosNuevosCumulativo_T.csv')"
   ]
  },
  {
   "cell_type": "markdown",
   "id": "d6db3a9e",
   "metadata": {},
   "source": [
    "Se transforma las fechas de string a date, luego se crea una columna switch con valor 0 para eliminar posteriormente los datos no necesarios"
   ]
  },
  {
   "cell_type": "code",
   "execution_count": 11,
   "id": "f63902ba-75a8-498c-a3fb-b520a85587b6",
   "metadata": {},
   "outputs": [],
   "source": [
    "df_casos_nuevos_acumulativos[\"Region\"] = df_casos_nuevos_acumulativos[\"Region\"].apply(string_date)\n",
    "df_casos_nuevos_acumulativos = df_casos_nuevos_acumulativos.assign(sw=0)"
   ]
  },
  {
   "cell_type": "markdown",
   "id": "514d5b60",
   "metadata": {},
   "source": [
    "Se cambian los valores 0 a nulo los datos que estan fuera del rango de fechas, todo esto en la columna 'sw'"
   ]
  },
  {
   "cell_type": "code",
   "execution_count": 12,
   "id": "faa6d500-03c6-47a5-afa5-9071eca91e26",
   "metadata": {},
   "outputs": [],
   "source": [
    "df_casos_nuevos_acumulativos = df_casos_nuevos_acumulativos.apply(set_sw,args=[fecha_inicial,fecha_final,\"Region\"],axis=1)"
   ]
  },
  {
   "cell_type": "markdown",
   "id": "c7d4fb3f",
   "metadata": {},
   "source": [
    "Se eliminan los valores nulos respecto a la columna 'sw', luego esta es eliminada"
   ]
  },
  {
   "cell_type": "code",
   "execution_count": 13,
   "id": "d9b686bd-d76d-445d-afcd-5d9f5ae75c20",
   "metadata": {},
   "outputs": [],
   "source": [
    "df_casos_nuevos_acumulativos = df_casos_nuevos_acumulativos.dropna(subset=[\"sw\"])\n",
    "df_casos_nuevos_acumulativos = df_casos_nuevos_acumulativos.drop(columns=[\"sw\"])"
   ]
  },
  {
   "cell_type": "markdown",
   "id": "63afed75",
   "metadata": {},
   "source": [
    "Se eliminan los tildes de los nombres de las columnas"
   ]
  },
  {
   "cell_type": "code",
   "execution_count": 14,
   "id": "cdeeae09",
   "metadata": {},
   "outputs": [],
   "source": [
    "df_casos_nuevos_acumulativos.columns = reemplazar_tildes(df_casos_nuevos_acumulativos.columns)"
   ]
  },
  {
   "cell_type": "markdown",
   "id": "1c1800a7",
   "metadata": {},
   "source": [
    "Se extrae el data frame a formato excel"
   ]
  },
  {
   "cell_type": "code",
   "execution_count": 15,
   "id": "0adb2acd-9e14-4205-bee7-03a83740d4ec",
   "metadata": {
    "id": "ZcNX4grCQ-NP"
   },
   "outputs": [],
   "source": [
    "df_casos_nuevos_acumulativos.to_excel(\"ContagiosDiariosRegional.xlsx\",sheet_name=nombre_hoja,index=False)"
   ]
  },
  {
   "cell_type": "markdown",
   "id": "982baf33-6858-4203-bd5d-cad6ef6b0d52",
   "metadata": {
    "jp-MarkdownHeadingCollapsed": true,
    "tags": []
   },
   "source": [
    "## Archivo Recuperados Activos Acumulado\n",
    "---"
   ]
  },
  {
   "cell_type": "markdown",
   "id": "fae2bfac",
   "metadata": {},
   "source": [
    "Se extraen los datos del archivo 'TotalesNacionales_T.csv'"
   ]
  },
  {
   "cell_type": "code",
   "execution_count": 16,
   "id": "7934cec6-ce18-4568-b787-4c943ac1450d",
   "metadata": {},
   "outputs": [],
   "source": [
    "df_totales_nacionales = pd.read_csv('https://raw.githubusercontent.com/MinCiencia/Datos-COVID19/master/output/producto5/TotalesNacionales_T.csv')"
   ]
  },
  {
   "cell_type": "markdown",
   "id": "86659cfa",
   "metadata": {},
   "source": [
    "Se reemplazan los valores nulos a 0, ya que, corresponden a datos que no fueron registrados al comienzo de la pandemia por el Minsal."
   ]
  },
  {
   "cell_type": "code",
   "execution_count": 17,
   "id": "70540df5-d5d0-4752-a839-8c05ff6af3ab",
   "metadata": {},
   "outputs": [],
   "source": [
    "df_totales_nacionales = df_totales_nacionales.replace(np.nan,0)"
   ]
  },
  {
   "cell_type": "markdown",
   "id": "b4a14da6",
   "metadata": {},
   "source": [
    "Se guarda el nombre de las columnas necesarias del data frame"
   ]
  },
  {
   "cell_type": "code",
   "execution_count": 18,
   "id": "efd94fea-4648-4e98-a5a3-4548a38b1730",
   "metadata": {},
   "outputs": [],
   "source": [
    "columnas = [\"Fecha\",\"Casos nuevos con sintomas\",\"Casos totales\",\"Casos recuperados\",\"Fallecidos\",\"Casos activos\",\"Casos nuevos sin sintomas\",\"Casos nuevos totales\",\"Casos activos por FD\",\n",
    "            \"Casos activos por FIS\",\"Casos recuperados por FIS\",\"Casos recuperados por FD\",\"Casos confirmados recuperados\",\"Casos activos confirmados\",\n",
    "            \"Casos probables acumulados\",\"Casos activos probables\",\"Casos nuevos sin notificar\",\"Casos confirmados por antigeno\",\"Casos con sospecha de reinfeccion\",\n",
    "           \"Casos nuevos confirmados por antigeno\"]"
   ]
  },
  {
   "cell_type": "markdown",
   "id": "8532e703",
   "metadata": {},
   "source": [
    "El data frame es ordenado al formato anterior y se igualan las columna por pertenecer al mismo dato"
   ]
  },
  {
   "cell_type": "code",
   "execution_count": 19,
   "id": "7f29c2bb-ef7c-4058-a509-94ea8195ba97",
   "metadata": {},
   "outputs": [],
   "source": [
    "df_totales_nacionales1 = df_totales_nacionales[columnas]\n",
    "df_totales_nacionales1[\"Casos recuperados\"] = df_totales_nacionales1[\"Casos confirmados recuperados\"]"
   ]
  },
  {
   "cell_type": "markdown",
   "id": "9494a93c",
   "metadata": {},
   "source": [
    "Se transforma la fecha de string a date"
   ]
  },
  {
   "cell_type": "code",
   "execution_count": 20,
   "id": "fefa3930-ce44-47ec-8329-df0981dab927",
   "metadata": {},
   "outputs": [],
   "source": [
    "df_totales_nacionales1[\"Fecha\"] = df_totales_nacionales1[\"Fecha\"].apply(string_date)"
   ]
  },
  {
   "cell_type": "markdown",
   "id": "4df4318d",
   "metadata": {},
   "source": [
    "Se crea la columna switch con valor 0, se setea el switch segun si la tupla pertenece al rango de fechas. Luego se elimina los nulos y la columna 'sw'"
   ]
  },
  {
   "cell_type": "code",
   "execution_count": 21,
   "id": "1aa906e1-cc96-4c95-b804-d635ec68e1e6",
   "metadata": {},
   "outputs": [],
   "source": [
    "df_totales_nacionales1 = df_totales_nacionales1.assign(sw=0)\n",
    "df_totales_nacionales1 = df_totales_nacionales1.apply(set_sw,args=[fecha_inicial,fecha_final,\"Fecha\"],axis=1)\n",
    "df_totales_nacionales1 = df_totales_nacionales1.dropna(subset=[\"sw\"])\n",
    "df_totales_nacionales1 = df_totales_nacionales1.drop(columns=[\"sw\"])"
   ]
  },
  {
   "cell_type": "markdown",
   "id": "6dcb24a9",
   "metadata": {},
   "source": [
    "Se renombran las columnas para seguir el formato ya definido"
   ]
  },
  {
   "cell_type": "code",
   "execution_count": 22,
   "id": "4aeb2ddf",
   "metadata": {},
   "outputs": [],
   "source": [
    "df_totales_nacionales1.columns = ['Fecha', 'Casos nuevos con sintomas', 'Casos totales',\n",
    "       'Casos recuperados', 'Fallecidos', 'Casos activos',\n",
    "       'Casos nuevos sin sintomas', 'Casos nuevos',\n",
    "       'Casos activos por FD', 'Casos activos por FIS',\n",
    "       'Casos recuperados por FIS', 'Casos recuperados por FD',\n",
    "       'Casos confirmados recuperados', 'Casos activos confirmados',\n",
    "       'Casos probables acumulados', 'Casos activos probables',\n",
    "       'Casos nuevos sin notificar', 'Casos confirmados por antigeno',\n",
    "       'Casos con sospecha de reinfeccion',\n",
    "       'Casos nuevos confirmados por antigeno']"
   ]
  },
  {
   "cell_type": "markdown",
   "id": "4fc3d890",
   "metadata": {},
   "source": [
    "Se exportan los datos del data frame a un excel"
   ]
  },
  {
   "cell_type": "code",
   "execution_count": 23,
   "id": "94275c67-1c96-423b-b423-4031b36d5d06",
   "metadata": {},
   "outputs": [],
   "source": [
    "df_totales_nacionales1.to_excel(\"RecuperadosActivosAcumulado.xlsx\",sheet_name=nombre_hoja,index=False)"
   ]
  },
  {
   "cell_type": "markdown",
   "id": "8c319d90-88d1-4013-8c9c-3e54f424aefe",
   "metadata": {
    "jp-MarkdownHeadingCollapsed": true,
    "tags": []
   },
   "source": [
    "## Archivo Comunas acumulado\n",
    "---"
   ]
  },
  {
   "cell_type": "markdown",
   "id": "4603d6bf",
   "metadata": {},
   "source": [
    "Extraccion de datos del archivo 'historial_comuna.csv'"
   ]
  },
  {
   "cell_type": "code",
   "execution_count": 24,
   "id": "29f4c9c6-a472-44df-85d8-4815a5019a51",
   "metadata": {},
   "outputs": [],
   "source": [
    "df_historial_comunas = pd.read_csv('https://raw.githubusercontent.com/ivanMSC/COVID19_Chile/master/historial_comunas.csv')"
   ]
  },
  {
   "cell_type": "markdown",
   "id": "256e44f5",
   "metadata": {},
   "source": [
    "Se formatea la fecha del data frame"
   ]
  },
  {
   "cell_type": "code",
   "execution_count": 25,
   "id": "a1526d5c-dc68-4ee1-b022-dbb2826c3c64",
   "metadata": {},
   "outputs": [],
   "source": [
    "df_historial_comunas[\"Fecha\"] = df_historial_comunas[\"Fecha\"].apply(string_date)"
   ]
  },
  {
   "cell_type": "code",
   "execution_count": 26,
   "id": "4f1732c5",
   "metadata": {},
   "outputs": [
    {
     "name": "stdout",
     "output_type": "stream",
     "text": [
      "2022-02-21 2022-02-18\n"
     ]
    }
   ],
   "source": [
    "fechas = list(df_historial_comunas[\"Fecha\"])\n",
    "indices = list(df_historial_comunas.index)\n",
    "current = fecha_inicial\n",
    "current_RM = fecha_inicial\n",
    "for i in range(len(fechas)):\n",
    "    if current < fechas[i] and df_historial_comunas.loc[indices[i],\"Region\"] != \"RM\":\n",
    "        current = fechas[i]\n",
    "    if current_RM < fechas[i] and df_historial_comunas.loc[indices[i],\"Region\"] == \"RM\":\n",
    "        current_RM = fechas[i]\n",
    "print(current,current_RM)"
   ]
  },
  {
   "cell_type": "markdown",
   "id": "d1594546",
   "metadata": {},
   "source": [
    "Se crea 2 data frame para diferenciar las comunas de la region metropolitana y las comunas de las demas regiones"
   ]
  },
  {
   "cell_type": "code",
   "execution_count": 27,
   "id": "c112aeaf-ed68-4d44-904e-ee7a0b205af9",
   "metadata": {},
   "outputs": [],
   "source": [
    "df_HC_RM = pd.DataFrame(columns=df_historial_comunas.columns)\n",
    "df_HC_otras_regiones = pd.DataFrame(columns=df_historial_comunas.columns)"
   ]
  },
  {
   "cell_type": "markdown",
   "id": "c7cd2eeb",
   "metadata": {},
   "source": [
    "Se agregan las tuplas a su respectivo data frame"
   ]
  },
  {
   "cell_type": "code",
   "execution_count": 28,
   "id": "2a770505-6ef0-4855-8d3f-047def2b3b44",
   "metadata": {},
   "outputs": [],
   "source": [
    "columnas = df_historial_comunas.columns\n",
    "for i in df_historial_comunas.index:\n",
    "    if df_historial_comunas.loc[i,\"Region\"] == \"RM\" and df_historial_comunas.loc[i,\"Fecha\"] == current_RM:\n",
    "        df_HC_RM = df_HC_RM.append({columnas[0] : df_historial_comunas.loc[i,\"Fecha\"],columnas[1] : df_historial_comunas.loc[i,\"CUT\"],columnas[2] : df_historial_comunas.loc[i,\"Region\"],columnas[3] : df_historial_comunas.loc[i,\"Comuna\"],columnas[4] : df_historial_comunas.loc[i,\"Confirmados Acumulados\"],columnas[5] : df_historial_comunas.loc[i,\"Nuevos Confirmados\"]},ignore_index=True)\n",
    "    elif df_historial_comunas.loc[i,\"Region\"] != \"RM\" and df_historial_comunas.loc[i,\"Fecha\"] == current:\n",
    "        df_HC_otras_regiones = df_HC_otras_regiones.append({columnas[0] : df_historial_comunas.loc[i,\"Fecha\"],columnas[1] : df_historial_comunas.loc[i,\"CUT\"],columnas[2] : df_historial_comunas.loc[i,\"Region\"],columnas[3] : df_historial_comunas.loc[i,\"Comuna\"],columnas[4] : df_historial_comunas.loc[i,\"Confirmados Acumulados\"],columnas[5] : df_historial_comunas.loc[i,\"Nuevos Confirmados\"]},ignore_index=True)"
   ]
  },
  {
   "cell_type": "markdown",
   "id": "5322a4e2",
   "metadata": {},
   "source": [
    "Se eliminan los tildes dentro de todas las palabras posibles que puedan llevar tilde y se crea un DataFrame vacio"
   ]
  },
  {
   "cell_type": "code",
   "execution_count": 29,
   "id": "9fcab265",
   "metadata": {},
   "outputs": [],
   "source": [
    "df_historial_comunas = pd.DataFrame(columns=df_HC_otras_regiones.columns)\n",
    "df_HC_otras_regiones[\"Comuna\"] = reemplazar_tildes(df_HC_otras_regiones[\"Comuna\"])\n",
    "df_HC_RM[\"Comuna\"] = reemplazar_tildes(df_HC_RM[\"Comuna\"])"
   ]
  },
  {
   "cell_type": "markdown",
   "id": "a711bc63",
   "metadata": {},
   "source": [
    "Se dejan los datos en un solo DataFrame"
   ]
  },
  {
   "cell_type": "code",
   "execution_count": 30,
   "id": "26321a34",
   "metadata": {},
   "outputs": [],
   "source": [
    "df_historial_comunas = pd.concat([df_historial_comunas,df_HC_otras_regiones],ignore_index=True)\n",
    "df_historial_comunas = pd.concat([df_historial_comunas,df_HC_RM],ignore_index=True)"
   ]
  },
  {
   "cell_type": "markdown",
   "id": "f9770d5d",
   "metadata": {},
   "source": [
    "Se crea un archivo excel en donde se almacenan los datos en 3 hojas distintas"
   ]
  },
  {
   "cell_type": "code",
   "execution_count": 31,
   "id": "2b6bb1e3-1893-43d4-af47-63c540187a0e",
   "metadata": {},
   "outputs": [],
   "source": [
    "df_historial_comunas.to_excel(\"ComunasAcumulado.xlsx\",sheet_name=nombre_hoja,index=False)"
   ]
  },
  {
   "cell_type": "markdown",
   "id": "83facc29-bada-435f-8c8d-d03b7058e2a8",
   "metadata": {
    "jp-MarkdownHeadingCollapsed": true,
    "tags": []
   },
   "source": [
    "## Archivo activos comunales\n",
    "---"
   ]
  },
  {
   "cell_type": "markdown",
   "id": "4bd4d2d0",
   "metadata": {},
   "source": [
    "Se extraen los datos del archivo 'CasosPorComuna.csv', se reemplazan los datos nulos por 0 y se duplica el data frame con terminacion periodo"
   ]
  },
  {
   "cell_type": "code",
   "execution_count": 32,
   "id": "af517b93-a471-40a7-8bbf-f89ad7709930",
   "metadata": {},
   "outputs": [],
   "source": [
    "df_casos_activos_comuna = pd.read_csv('https://raw.githubusercontent.com/MinCiencia/Datos-COVID19/master/output/producto19/CasosActivosPorComuna.csv')\n",
    "df_casos_activos_comuna = df_casos_activos_comuna.replace(np.nan,0)\n",
    "df_casos_activos_comuna_periodo = df_casos_activos_comuna.copy()"
   ]
  },
  {
   "cell_type": "markdown",
   "id": "fb171a31",
   "metadata": {},
   "source": [
    "Se extrae la ultima fecha registrada"
   ]
  },
  {
   "cell_type": "code",
   "execution_count": 33,
   "id": "288b964d",
   "metadata": {},
   "outputs": [],
   "source": [
    "columnas = list(df_casos_activos_comuna.columns[5:].copy())\n",
    "fecha_activos = string_date(columnas[len(columnas)-1])"
   ]
  },
  {
   "cell_type": "markdown",
   "id": "7cf74b17",
   "metadata": {},
   "source": [
    "Se formatea las fechas de las columnas"
   ]
  },
  {
   "cell_type": "code",
   "execution_count": 34,
   "id": "9e652935-7c6e-457a-a04e-565ffcdcfbb1",
   "metadata": {},
   "outputs": [],
   "source": [
    "columnas = list(df_casos_activos_comuna.columns)\n",
    "for i in range(len(columnas[5:])):\n",
    "    fecha = string_date(columnas[5 + i])\n",
    "    if fecha < fecha_inicial or fecha > fecha_final:\n",
    "        df_casos_activos_comuna_periodo[columnas[5 + i]] = np.nan\n",
    "    columnas[5 + i] = fecha.strftime('%B_%d').capitalize()"
   ]
  },
  {
   "cell_type": "markdown",
   "id": "0c23747a",
   "metadata": {},
   "source": [
    "Cambia el nombre de las columnas"
   ]
  },
  {
   "cell_type": "code",
   "execution_count": 35,
   "id": "a87c2fd5-282e-4279-84bd-d85222047e5d",
   "metadata": {},
   "outputs": [],
   "source": [
    "df_casos_activos_comuna_periodo.columns = columnas\n",
    "df_casos_activos_comuna.columns = columnas"
   ]
  },
  {
   "cell_type": "markdown",
   "id": "ba2d9690",
   "metadata": {},
   "source": [
    "Elimina los nulos"
   ]
  },
  {
   "cell_type": "code",
   "execution_count": 36,
   "id": "c7f2c36e-4d2e-45b3-afd3-1647bfc1608f",
   "metadata": {},
   "outputs": [],
   "source": [
    "df_casos_activos_comuna_periodo = df_casos_activos_comuna_periodo.dropna(axis=1)"
   ]
  },
  {
   "cell_type": "markdown",
   "id": "b51d0d20",
   "metadata": {},
   "source": [
    "Se reemplaza las tildes de la columna region"
   ]
  },
  {
   "cell_type": "code",
   "execution_count": 37,
   "id": "18a020a1",
   "metadata": {},
   "outputs": [],
   "source": [
    "df_casos_activos_comuna[\"Region\"] = reemplazar_tildes(df_casos_activos_comuna[\"Region\"])\n",
    "df_casos_activos_comuna_periodo[\"Region\"] = reemplazar_tildes(df_casos_activos_comuna_periodo[\"Region\"])"
   ]
  },
  {
   "cell_type": "markdown",
   "id": "2cf0b0b3",
   "metadata": {},
   "source": [
    "Se crea otro dataFrame con los datos de los casos activos de la ultima fecha registrada"
   ]
  },
  {
   "cell_type": "code",
   "execution_count": 38,
   "id": "27840641",
   "metadata": {},
   "outputs": [],
   "source": [
    "fechas = list(df_casos_activos_comuna_periodo.columns[5:].copy())\n",
    "columnas = list(df_casos_activos_comuna_periodo.columns[:4].copy())\n",
    "columnas.append(fechas[len(fechas)-1])\n",
    "df_activos_presente = df_casos_activos_comuna_periodo[columnas]\n",
    "df_activos_presente.columns = ['Region', 'Codigo region', 'Comuna', 'Codigo comuna', 'Activos']\n",
    "df_activos_presente = df_activos_presente.assign(Fecha=fecha_activos)"
   ]
  },
  {
   "cell_type": "markdown",
   "id": "a1dacefa",
   "metadata": {},
   "source": [
    "Se crea un archivo excel con los datos obtenidos"
   ]
  },
  {
   "cell_type": "code",
   "execution_count": 39,
   "id": "23286265-d7c7-4542-84df-439402e3a427",
   "metadata": {},
   "outputs": [],
   "source": [
    "df_casos_activos_comuna.to_excel(\"ActivosComunales.xlsx\",sheet_name=\"Historial\",index=False)\n",
    "with pd.ExcelWriter(\"ActivosComunales.xlsx\", mode=\"a\", engine=\"openpyxl\") as writer:\n",
    "      df_casos_activos_comuna_periodo.to_excel(writer, sheet_name=\"grafico\",index=False)\n",
    "      df_activos_presente.to_excel(writer,sheet_name=nombre_hoja,index=False)"
   ]
  },
  {
   "cell_type": "markdown",
   "id": "13b663b4-9b0b-4f37-a34f-92ba22b69739",
   "metadata": {},
   "source": [
    "## Archivo evolucion COVID\n",
    "---"
   ]
  },
  {
   "cell_type": "markdown",
   "id": "1f951169",
   "metadata": {},
   "source": [
    "Se extraen los datos del archivo 'covid19_chile.csv'"
   ]
  },
  {
   "cell_type": "code",
   "execution_count": 14,
   "id": "66a5c1f2-a3dd-4785-ad30-f5dadc61d475",
   "metadata": {},
   "outputs": [],
   "source": [
    "df_evolucion_covid = pd.read_csv('https://raw.githubusercontent.com/ivanMSC/COVID19_Chile/master/covid19_chile.csv')"
   ]
  },
  {
   "cell_type": "markdown",
   "id": "643fcc6a",
   "metadata": {},
   "source": [
    "Se ordena el data frame, se formatean las fechas a formato date y se eliminan las tuplas que no perteneces al rango de fechas"
   ]
  },
  {
   "cell_type": "code",
   "execution_count": 15,
   "id": "0275dec8-327a-4e30-9f4a-303e9599c6b5",
   "metadata": {},
   "outputs": [],
   "source": [
    "df_evolucion_covid = df_evolucion_covid[['Fecha', 'Region', 'Nuevo Confirmado', 'Nuevo Muerte',\n",
    "       'Nuevo Recuperado', 'Acum Confirmado', 'Acum Muerte', 'Acum Recuperado']]\n",
    "df_evolucion_covid = df_evolucion_covid.assign(sw=0)\n",
    "df_evolucion_covid[\"Fecha\"] = df_evolucion_covid[\"Fecha\"].apply(string_date)\n",
    "df_evolucion_covid = df_evolucion_covid.apply(set_sw,args=[fecha_inicial,fecha_final,\"Fecha\"],axis=1)\n",
    "df_evolucion_covid = df_evolucion_covid.dropna(subset=[\"sw\"])\n",
    "df_evolucion_covid = df_evolucion_covid.drop(columns=[\"sw\"])"
   ]
  },
  {
   "cell_type": "markdown",
   "id": "fe5cc041",
   "metadata": {},
   "source": [
    "Se actualizan los datos de la columna 'Nuevos confirmados' desde el archivo del producto 4, iterando por cada archivo desde la fecha inicial hasta la fecha final del periodo establecido"
   ]
  },
  {
   "cell_type": "code",
   "execution_count": 16,
   "id": "1ee00820",
   "metadata": {},
   "outputs": [],
   "source": [
    "fecha_current = fecha_inicial\n",
    "regiones = list(pd.unique(df_evolucion_covid[\"Region\"]))\n",
    "df_evolucion_covid = df_evolucion_covid.reset_index(drop=True)\n",
    "index = 0\n",
    "for i in range(periodo.days + 1):\n",
    "    df_current = pd.read_csv(f'https://raw.githubusercontent.com/MinCiencia/Datos-COVID19/master/output/producto4/{fecha_current}-CasosConfirmados-totalRegional.csv')\n",
    "    df_current = df_current.apply(set_tupla,args=[regiones,\"Region\"],axis=1)\n",
    "    df_current = df_current.dropna(subset=[\"Region\"])\n",
    "    for a in df_current.index:\n",
    "        df_evolucion_covid.loc[index,\"Nuevo Confirmado\"] = df_current.loc[a,\"Casos nuevos totales\"]\n",
    "        index += 1\n",
    "    fecha_current = fecha_current + dt.timedelta(days=1)"
   ]
  },
  {
   "cell_type": "markdown",
   "id": "ba4dc51d",
   "metadata": {},
   "source": [
    "Se reemplazan los tildes"
   ]
  },
  {
   "cell_type": "code",
   "execution_count": 17,
   "id": "0446b3de",
   "metadata": {},
   "outputs": [],
   "source": [
    "df_evolucion_covid.columns = reemplazar_tildes(df_evolucion_covid.columns)\n",
    "df_evolucion_covid[\"Region\"] = reemplazar_tildes(df_evolucion_covid[\"Region\"])"
   ]
  },
  {
   "cell_type": "code",
   "execution_count": 18,
   "id": "0c4a0745",
   "metadata": {},
   "outputs": [],
   "source": [
    "regiones = list(pd.unique(df_evolucion_covid[\"Region\"]))\n",
    "regiones.pop()\n",
    "df_evolucion_covid = df_evolucion_covid.apply(set_tupla,args=[regiones,\"Region\"],axis=1)\n",
    "df_evolucion_covid = df_evolucion_covid.dropna(subset=[\"Region\"])"
   ]
  },
  {
   "cell_type": "markdown",
   "id": "b4281ce6",
   "metadata": {},
   "source": [
    "Se crea el archivo excel con los datos"
   ]
  },
  {
   "cell_type": "code",
   "execution_count": 46,
   "id": "cb82acaf-d754-4cae-8b6f-1ef294223848",
   "metadata": {},
   "outputs": [],
   "source": [
    "df_evolucion_covid.to_excel(\"EvolucionCovid.xlsx\",sheet_name=nombre_hoja,index=False)"
   ]
  },
  {
   "cell_type": "markdown",
   "id": "f6f30521-b12e-4772-9954-effd84c57282",
   "metadata": {
    "tags": []
   },
   "source": [
    "## Archivo activos totales regional\n",
    "---"
   ]
  },
  {
   "cell_type": "markdown",
   "id": "1b128ff5",
   "metadata": {},
   "source": [
    "Se crea un data frame vacio para agregar datos en él"
   ]
  },
  {
   "cell_type": "code",
   "execution_count": 47,
   "id": "5b382766-2520-4643-a350-f48548729857",
   "metadata": {},
   "outputs": [],
   "source": [
    "df_casos_activos_region = pd.DataFrame(columns=['Region','Fecha','ACTIVOS'])"
   ]
  },
  {
   "cell_type": "markdown",
   "id": "91d2b0a3",
   "metadata": {},
   "source": [
    "Se agregan los datos desde el producto 4 al data frame vacio"
   ]
  },
  {
   "cell_type": "code",
   "execution_count": 48,
   "id": "0ffcc801-90ab-4656-84eb-fd64eeb95e7f",
   "metadata": {},
   "outputs": [],
   "source": [
    "fecha_current = fecha_inicial\n",
    "for i in range(periodo.days + 1):\n",
    "    df_current = pd.read_csv(f'https://raw.githubusercontent.com/MinCiencia/Datos-COVID19/master/output/producto4/{fecha_current}-CasosConfirmados-totalRegional.csv')\n",
    "    df_current = df_current.assign(Fecha=fecha_current)\n",
    "    df_current = df_current[['Region','Fecha','Casos activos confirmados']]\n",
    "    for a in df_current.index:\n",
    "        df_casos_activos_region = df_casos_activos_region.append({'Region':df_current.loc[a,'Region'],'Fecha':df_current.loc[a,\"Fecha\"],'ACTIVOS':df_current.loc[a,'Casos activos confirmados']},ignore_index=True)\n",
    "    fecha_current = fecha_current + dt.timedelta(days=1)"
   ]
  },
  {
   "cell_type": "markdown",
   "id": "3cfca55b",
   "metadata": {},
   "source": [
    "Se crean dos data frame, para agregar en uno las fechas pares y en otro las fechas impares"
   ]
  },
  {
   "cell_type": "code",
   "execution_count": 49,
   "id": "d03a5ffa-c774-4ab6-b624-a5be8aaf3257",
   "metadata": {},
   "outputs": [],
   "source": [
    "df_CAR_par = pd.DataFrame(columns=df_casos_activos_region.columns)\n",
    "df_CAR_impar = pd.DataFrame(columns=df_casos_activos_region.columns)"
   ]
  },
  {
   "cell_type": "markdown",
   "id": "7e979efc",
   "metadata": {},
   "source": [
    "Se separan los datos en su respectivo data frame"
   ]
  },
  {
   "cell_type": "code",
   "execution_count": 50,
   "id": "a5be8dd9-01c6-4a88-8ce0-3e6fa683b2a9",
   "metadata": {},
   "outputs": [],
   "source": [
    "columnas = df_casos_activos_region.columns\n",
    "for i in df_casos_activos_region.index:\n",
    "    if is_par(df_casos_activos_region.loc[i,\"Fecha\"]):\n",
    "        df_CAR_par = df_CAR_par.append({columnas[0] : df_casos_activos_region.loc[i,\"Region\"],columnas[1]:df_casos_activos_region.loc[i,\"Fecha\"],columnas[2]:df_casos_activos_region.loc[i,\"ACTIVOS\"]},ignore_index=True)\n",
    "    else:\n",
    "        df_CAR_impar = df_CAR_impar.append({columnas[0] : df_casos_activos_region.loc[i,\"Region\"],columnas[1]:df_casos_activos_region.loc[i,\"Fecha\"],columnas[2]:df_casos_activos_region.loc[i,\"ACTIVOS\"]},ignore_index=True)"
   ]
  },
  {
   "cell_type": "markdown",
   "id": "447d6fb6",
   "metadata": {},
   "source": [
    "Se eliminan las tuplas que no correspondes al rango de fechas"
   ]
  },
  {
   "cell_type": "code",
   "execution_count": 51,
   "id": "52cc38f0",
   "metadata": {},
   "outputs": [],
   "source": [
    "df_CAR_impar = df_CAR_impar.assign(sw=0)\n",
    "df_CAR_impar = df_CAR_impar.apply(set_sw,args=[fecha_inicial,fecha_final,\"Fecha\"],axis=1)\n",
    "df_CAR_par = df_CAR_par.assign(sw=0)\n",
    "df_CAR_par = df_CAR_par.apply(set_sw,args=[fecha_inicial,fecha_final,\"Fecha\"],axis=1)\n",
    "df_CAR_impar = df_CAR_impar.dropna(subset=[\"sw\"])\n",
    "df_CAR_par = df_CAR_par.dropna(subset=[\"sw\"])\n",
    "df_CAR_impar = df_CAR_impar.drop(columns=[\"sw\"])\n",
    "df_CAR_par = df_CAR_par.drop(columns=[\"sw\"])"
   ]
  },
  {
   "cell_type": "markdown",
   "id": "7e2a818d",
   "metadata": {},
   "source": [
    "Se reemplazan los tildes de las Regiones"
   ]
  },
  {
   "cell_type": "code",
   "execution_count": 52,
   "id": "764dd2f1",
   "metadata": {},
   "outputs": [],
   "source": [
    "df_casos_activos_region[\"Region\"] = reemplazar_tildes(df_casos_activos_region[\"Region\"])\n",
    "df_CAR_impar[\"Region\"] = reemplazar_tildes(df_CAR_impar[\"Region\"])\n",
    "df_CAR_par[\"Region\"] = reemplazar_tildes(df_CAR_par[\"Region\"])\n"
   ]
  },
  {
   "cell_type": "markdown",
   "id": "efc1a069",
   "metadata": {},
   "source": [
    "Se crea un excel en donde se almacenan los datos de los data frame"
   ]
  },
  {
   "cell_type": "code",
   "execution_count": 53,
   "id": "5285b30f-de28-433a-ad7d-037e87c4856c",
   "metadata": {
    "id": "ZcNX4grCQ-NP"
   },
   "outputs": [],
   "source": [
    "df_casos_activos_region.to_excel(\"ActivosTotalRegional.xlsx\",sheet_name=\"Master\",index=False)\n",
    "with pd.ExcelWriter(\"ActivosTotalRegional.xlsx\", mode=\"a\", engine=\"openpyxl\") as writer:\n",
    "      df_CAR_par.to_excel(writer, sheet_name=\"MasterPar\",index=False)\n",
    "      df_CAR_impar.to_excel(writer, sheet_name=\"MasterImpar\",index=False)"
   ]
  },
  {
   "cell_type": "markdown",
   "id": "6557e651",
   "metadata": {},
   "source": [
    "## Archivo reporte diario minsal\n",
    "---"
   ]
  },
  {
   "cell_type": "markdown",
   "id": "cc0bde5f",
   "metadata": {},
   "source": [
    "Se extraen dos archivos de datos, el archivo de la fecha actual del producto 4 y el archivo 'CasosActivosPorComuna.csv'"
   ]
  },
  {
   "cell_type": "code",
   "execution_count": 10,
   "id": "ad954daf",
   "metadata": {},
   "outputs": [],
   "source": [
    "df_reporte_diario = pd.read_csv('https://raw.githubusercontent.com/MinCiencia/Datos-COVID19/master/output/producto19/CasosActivosPorComuna.csv')\n",
    "df_producto4 = pd.read_csv(f'https://raw.githubusercontent.com/MinCiencia/Datos-COVID19/master/output/producto4/{fecha_final}-CasosConfirmados-totalRegional.csv')"
   ]
  },
  {
   "cell_type": "markdown",
   "id": "62c7c321",
   "metadata": {},
   "source": [
    "Se ordena el dataframe y se elimina las tuplas que no corresponden"
   ]
  },
  {
   "cell_type": "code",
   "execution_count": 11,
   "id": "491b2743",
   "metadata": {},
   "outputs": [],
   "source": [
    "df_reporte_diario = df_reporte_diario[[\"Codigo region\",\"Region\",\"Poblacion\",\"Comuna\"]]\n",
    "df_reporte_diario = df_reporte_diario.apply(set_tupla,args=[[\"Total\"],\"Comuna\"],axis=1)\n",
    "df_reporte_diario = df_reporte_diario.dropna(subset=[\"Comuna\"])\n",
    "df_reporte_diario = df_reporte_diario.drop(columns=[\"Comuna\"])\n",
    "\n"
   ]
  },
  {
   "cell_type": "markdown",
   "id": "003d50c5",
   "metadata": {},
   "source": [
    "se eliminan las tuplas no corresponden"
   ]
  },
  {
   "cell_type": "code",
   "execution_count": 19,
   "id": "df518291",
   "metadata": {},
   "outputs": [],
   "source": [
    "df_producto4[\"Region\"] = reemplazar_tildes(df_producto4[\"Region\"])\n",
    "df_producto4 = df_producto4.apply(set_tupla,args=[regiones,\"Region\"],axis=1)\n",
    "df_producto4 = df_producto4.dropna(subset=[\"Region\"])"
   ]
  },
  {
   "cell_type": "markdown",
   "id": "a9e6be84",
   "metadata": {},
   "source": [
    "Se aplica reestablece el indice de las tuplas"
   ]
  },
  {
   "cell_type": "code",
   "execution_count": 20,
   "id": "8e092412",
   "metadata": {},
   "outputs": [],
   "source": [
    "df_reporte_diario = df_reporte_diario.reset_index(drop=True)"
   ]
  },
  {
   "cell_type": "markdown",
   "id": "8480c7bf",
   "metadata": {},
   "source": [
    "Se extraen los datos del producto4 al dataframe reporte diario"
   ]
  },
  {
   "cell_type": "code",
   "execution_count": 21,
   "id": "7f15bc2f",
   "metadata": {},
   "outputs": [],
   "source": [
    "df_reporte_diario[\"Casos totales\"] = df_producto4[\"Casos totales acumulados\"]\n",
    "df_reporte_diario[\"Casos nuevos\"] = df_producto4[\"Casos nuevos totales\"]\n",
    "df_reporte_diario[\"Casos nuevos con sintomas\"] = df_producto4[\"Casos nuevos con sintomas\"]\n",
    "df_reporte_diario[\"Casos nuevos sin sintomas\"] = df_producto4[\"Casos nuevos sin sintomas*\"]\n",
    "df_reporte_diario[\"Activos\"] = df_producto4[\"Casos activos confirmados\"]\n",
    "df_reporte_diario[\"Fallecidos\"] = df_producto4[\"Fallecidos totales\"]\n",
    "df_reporte_diario[\"Recuperados\"] = df_producto4[\"Casos confirmados recuperados\"]\n"
   ]
  },
  {
   "cell_type": "markdown",
   "id": "86e4ab61",
   "metadata": {},
   "source": [
    "Se renombran y ordenan las columnas"
   ]
  },
  {
   "cell_type": "code",
   "execution_count": 22,
   "id": "f223b799",
   "metadata": {},
   "outputs": [],
   "source": [
    "df_reporte_diario.columns = ['COD_REGION', 'Region', 'POBLACION', 'Casos totales', 'Casos nuevos','Casos nuevos con sintomas', 'Casos nuevos sin sintomas', 'Activos','Fallecidos', 'Recuperados']\n",
    "df_reporte_diario = df_reporte_diario[['COD_REGION','Region','Casos totales','Casos nuevos','Casos nuevos con sintomas','Casos nuevos sin sintomas','Activos','Fallecidos','Recuperados','POBLACION']]"
   ]
  },
  {
   "cell_type": "markdown",
   "id": "a8d9e332",
   "metadata": {},
   "source": [
    "*Se añade la tupla de la suma de cada columna*"
   ]
  },
  {
   "cell_type": "code",
   "execution_count": 41,
   "id": "78ffcafe",
   "metadata": {},
   "outputs": [],
   "source": [
    "sumas = list(df_reporte_diario.sum(axis=0,numeric_only=True))\n",
    "sumas[0] = \"-\"\n",
    "sumas.insert(1,\"Total\")\n",
    "columnas = df_reporte_diario.columns\n",
    "df_reporte_diario = df_reporte_diario.append(dict(zip(columnas,sumas)),ignore_index=True)"
   ]
  },
  {
   "cell_type": "markdown",
   "id": "36cdea21",
   "metadata": {},
   "source": [
    "Se exportan los datos en un archivo excel"
   ]
  },
  {
   "cell_type": "code",
   "execution_count": 42,
   "id": "c24cba84",
   "metadata": {},
   "outputs": [],
   "source": [
    "df_reporte_diario.to_excel(\"ReporteDiarioMinsal.xlsx\",sheet_name=nombre_hoja,index=False)"
   ]
  }
 ],
 "metadata": {
  "kernelspec": {
   "display_name": "Python 3",
   "language": "python",
   "name": "python3"
  },
  "language_info": {
   "codemirror_mode": {
    "name": "ipython",
    "version": 3
   },
   "file_extension": ".py",
   "mimetype": "text/x-python",
   "name": "python",
   "nbconvert_exporter": "python",
   "pygments_lexer": "ipython3",
   "version": "3.8.8"
  }
 },
 "nbformat": 4,
 "nbformat_minor": 5
}
