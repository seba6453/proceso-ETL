{
 "cells": [
  {
   "cell_type": "markdown",
   "metadata": {
    "id": "kOhRbSQ5ZsiV",
    "tags": []
   },
   "source": [
    "# **Proceso ETL de dato COVID-19**\n",
    "---\n",
    "Dentro de la empresa es necesario la obtencion de los datos del informe COVID-19 entregado por la autoridad sanitaria, para su posterior analisis a traves de graficos estadisticos.\n",
    "\n",
    "Los datos obtenidos provienen de repositorios pertenecientes al Ministerio de Ciencia y a Ivan Gonzales, ambos repositorios alojados en GitHub."
   ]
  },
  {
   "cell_type": "code",
   "execution_count": 1,
   "metadata": {
    "id": "ndRi-zUdXwnU"
   },
   "outputs": [
    {
     "data": {
      "text/plain": [
       "'es_ES.UTF-8'"
      ]
     },
     "execution_count": 1,
     "metadata": {},
     "output_type": "execute_result"
    }
   ],
   "source": [
    "import pandas as pd\n",
    "import datetime as dt\n",
    "import locale\n",
    "locale.setlocale(locale.LC_TIME, 'es_ES.UTF-8')"
   ]
  },
  {
   "cell_type": "markdown",
   "metadata": {
    "id": "zPKyz4smfJ1L"
   },
   "source": [
    "### Para comenzar con la obtencion de los datos, es necesario establecer el numero de dias de estudio"
   ]
  },
  {
   "cell_type": "code",
   "execution_count": 2,
   "metadata": {},
   "outputs": [],
   "source": [
    "periodo = dt.timedelta(days=int(input(\"Ingrese el numero de dias: \")))"
   ]
  },
  {
   "cell_type": "code",
   "execution_count": 3,
   "metadata": {
    "colab": {
     "base_uri": "https://localhost:8080/"
    },
    "id": "Hfbhyb6SX4_n",
    "outputId": "acc0e149-f4c5-48c2-b425-76433e634a34"
   },
   "outputs": [],
   "source": [
    "fecha_final = dt.date.today() - dt.timedelta(days=1)\n",
    "fecha_inicial = fecha_final - periodo\n",
    "nombre_hoja = \"Hoja1\""
   ]
  },
  {
   "cell_type": "markdown",
   "metadata": {},
   "source": [
    "### Funciones necesarias"
   ]
  },
  {
   "cell_type": "markdown",
   "metadata": {},
   "source": [
    "*Funcion para transformar fechas en formato string yyyy-mm-dd ; dd-mm-yyyy a formato Date*"
   ]
  },
  {
   "cell_type": "code",
   "execution_count": 4,
   "metadata": {
    "id": "wisXBRITEXpE"
   },
   "outputs": [],
   "source": [
    "def string_date(fecha_str):\n",
    "  fecha = fecha_str.split(\"-\")\n",
    "  if (len(fecha[0]) > 2):\n",
    "    fecha_str = fecha_str.split(\"-\")\n",
    "    return dt.date(int(fecha_str[0]),int(fecha_str[1]),int(fecha_str[2]))\n",
    "  return dt.date(int(fecha[2]),int(fecha[1]),int(fecha[0]))\n"
   ]
  },
  {
   "cell_type": "markdown",
   "metadata": {},
   "source": [
    "*Funcion para setear los sw a None si una tupla no corresponde al periodo de fechas indicados*"
   ]
  },
  {
   "cell_type": "code",
   "execution_count": 5,
   "metadata": {
    "id": "E67JuClQCnc-"
   },
   "outputs": [],
   "source": [
    "def set_sw(tupla,fecha1,fecha2):\n",
    "  if string_date(tupla[\"Fecha\"]) < fecha1 or string_date(tupla[\"Fecha\"]) > fecha2:\n",
    "    tupla[\"sw\"] = None\n",
    "  return tupla\n"
   ]
  },
  {
   "cell_type": "markdown",
   "metadata": {},
   "source": [
    "*Funcion que setea sw en nulo si el nombre de la comuna de la tupla es igual a la palabra ingresada*"
   ]
  },
  {
   "cell_type": "code",
   "execution_count": 6,
   "metadata": {
    "id": "PMJ0UEJWNTFl"
   },
   "outputs": [],
   "source": [
    "def set_comuna(tupla,palabra):\n",
    "  if tupla[\"Comuna\"].split(\" \")[0] == palabra:\n",
    "    tupla[\"sw\"] = None\n",
    "  return tupla"
   ]
  },
  {
   "cell_type": "markdown",
   "metadata": {
    "id": "2bn_Lcpo52qz"
   },
   "source": [
    "## Datos historicos de los casos COVID-19 por comuna.\n",
    "---\n",
    "\n"
   ]
  },
  {
   "cell_type": "markdown",
   "metadata": {
    "id": "-u9vTPerisyU",
    "tags": []
   },
   "source": [
    "### Luego es necesario ingresar la URL directa del archivo CSV.\n",
    "Para este caso se ingresa la URL proveniente de un repositorio github del MinCiencia, el archivo se llama \"*historial_comunas.csv*\""
   ]
  },
  {
   "cell_type": "code",
   "execution_count": 7,
   "metadata": {
    "id": "BJmehkt85NLh"
   },
   "outputs": [],
   "source": [
    "df_historial_comunas = pd.read_csv('https://raw.githubusercontent.com/ivanMSC/COVID19_Chile/master/historial_comunas.csv')"
   ]
  },
  {
   "cell_type": "markdown",
   "metadata": {
    "id": "pgbEbziV5aPY"
   },
   "source": [
    "*Nota: Si se desea ingresar un archio .CSV local, es necesario alojarlo en el mismo directorio del programa*"
   ]
  },
  {
   "cell_type": "markdown",
   "metadata": {},
   "source": [
    "*Agrega una columna extra que sirve como switch*"
   ]
  },
  {
   "cell_type": "code",
   "execution_count": 8,
   "metadata": {
    "id": "KvKHMb_NB0Gz"
   },
   "outputs": [],
   "source": [
    "df_historial_comunas = df_historial_comunas.assign(sw=0)"
   ]
  },
  {
   "cell_type": "markdown",
   "metadata": {},
   "source": [
    "*Se aplica la funcion set_sw en el DF*"
   ]
  },
  {
   "cell_type": "code",
   "execution_count": 9,
   "metadata": {
    "id": "GBi3O0547ZR7"
   },
   "outputs": [],
   "source": [
    "df_historial_comunas = df_historial_comunas.apply(set_sw,args=[fecha_inicial,fecha_final],axis=1)"
   ]
  },
  {
   "cell_type": "markdown",
   "metadata": {},
   "source": [
    "*Se eliminan las tuplas nulas y la columna sw*"
   ]
  },
  {
   "cell_type": "code",
   "execution_count": 10,
   "metadata": {
    "id": "rsDuhJaBJ-a1"
   },
   "outputs": [],
   "source": [
    "df_historial_comunas = df_historial_comunas.dropna()\n",
    "df_historial_comunas = df_historial_comunas.drop(columns=[\"sw\"])"
   ]
  },
  {
   "cell_type": "code",
   "execution_count": 11,
   "metadata": {},
   "outputs": [],
   "source": [
    "df_historial_comunas[\"Fecha\"] = df_historial_comunas[\"Fecha\"].apply(string_date)"
   ]
  },
  {
   "cell_type": "markdown",
   "metadata": {},
   "source": [
    "*Se exportan los datos en un archivo excel*"
   ]
  },
  {
   "cell_type": "code",
   "execution_count": 12,
   "metadata": {
    "id": "ZcNX4grCQ-NP"
   },
   "outputs": [],
   "source": [
    "df_historial_comunas.to_excel(\"ContagiosDiarios.xlsx\",sheet_name=nombre_hoja,index=False)"
   ]
  },
  {
   "cell_type": "markdown",
   "metadata": {
    "id": "Zweb4hXJ7e64"
   },
   "source": [
    "## Casos activos por comuna\n",
    "---\n",
    "\n"
   ]
  },
  {
   "cell_type": "markdown",
   "metadata": {
    "id": "8v6LFX3r4284"
   },
   "source": [
    "### Luego es necesario ingresar la URL directa del archivo CSV.\n",
    "Para este caso se ingresa la URL proveniente de un repositorio github del MinCiencia, el archivo se llama \"*historial_comunas.csv*\""
   ]
  },
  {
   "cell_type": "code",
   "execution_count": 13,
   "metadata": {
    "id": "Nw2JMy6K_H12"
   },
   "outputs": [],
   "source": [
    "df_casos_activos_comuna = pd.read_csv('https://raw.githubusercontent.com/MinCiencia/Datos-COVID19/master/output/producto19/CasosActivosPorComuna_std.csv')"
   ]
  },
  {
   "cell_type": "markdown",
   "metadata": {
    "id": "RxJ47I3H5Bnb"
   },
   "source": [
    "*Nota: Si se desea ingresar un archio .CSV local, es necesario alojarlo en el mismo directorio del programa*"
   ]
  },
  {
   "cell_type": "markdown",
   "metadata": {},
   "source": [
    "*Agrega una columna extra que sirve como switch*"
   ]
  },
  {
   "cell_type": "code",
   "execution_count": 14,
   "metadata": {
    "id": "pAeQBJzDDD-u"
   },
   "outputs": [],
   "source": [
    "df_casos_activos_comuna = df_casos_activos_comuna.assign(sw=0)"
   ]
  },
  {
   "cell_type": "markdown",
   "metadata": {},
   "source": [
    "*Se aplica la funcion set_sw en el DF*"
   ]
  },
  {
   "cell_type": "code",
   "execution_count": 15,
   "metadata": {
    "id": "MQ0YcNMUDKw3"
   },
   "outputs": [],
   "source": [
    "df_casos_activos_comuna = df_casos_activos_comuna.apply(set_sw,args=[fecha_inicial,fecha_final],axis=1)"
   ]
  },
  {
   "cell_type": "markdown",
   "metadata": {},
   "source": [
    "*Se aplica la funcion set_comuna para eliminar las tuplas con nombre \"Desconocido\" y \"Total\"*"
   ]
  },
  {
   "cell_type": "code",
   "execution_count": 16,
   "metadata": {
    "id": "lKyIO1wsTGZm"
   },
   "outputs": [],
   "source": [
    "df_casos_activos_comuna = df_casos_activos_comuna.apply(set_comuna,args=[\"Desconocido\"],axis=1)\n",
    "df_casos_activos_comuna = df_casos_activos_comuna.apply(set_comuna,args=[\"Total\"],axis=1)"
   ]
  },
  {
   "cell_type": "markdown",
   "metadata": {},
   "source": [
    "*Se elimina los datos nulos y la columna sw*"
   ]
  },
  {
   "cell_type": "code",
   "execution_count": 17,
   "metadata": {
    "id": "loQNO1nSECJh"
   },
   "outputs": [],
   "source": [
    "df_casos_activos_comuna = df_casos_activos_comuna.dropna(subset=['sw'])\n",
    "df_casos_activos_comuna = df_casos_activos_comuna.drop(columns='sw')"
   ]
  },
  {
   "cell_type": "markdown",
   "metadata": {},
   "source": [
    "*Se ordenan las columnas a un formato predefinido*"
   ]
  },
  {
   "cell_type": "code",
   "execution_count": 18,
   "metadata": {
    "id": "dzWFw8g7Ixv8"
   },
   "outputs": [],
   "source": [
    "df_casos_activos_comuna = df_casos_activos_comuna[[\"Region\",\"Codigo region\",\"Comuna\",\"Codigo comuna\",\"Poblacion\",\"Casos activos\",\"Fecha\"]]"
   ]
  },
  {
   "cell_type": "code",
   "execution_count": 19,
   "metadata": {},
   "outputs": [],
   "source": [
    "df_casos_activos_comuna.columns = [\"Region\",\"Codigo region\",\"Comuna\",\"Codigo comuna\",\"Poblacion\",\"Importe\",\"Mes\"]"
   ]
  },
  {
   "cell_type": "markdown",
   "metadata": {},
   "source": [
    "*Se aplica la funcion string_date() a la columna de fechas*"
   ]
  },
  {
   "cell_type": "code",
   "execution_count": 20,
   "metadata": {},
   "outputs": [],
   "source": [
    "df_casos_activos_comuna[\"Mes\"] = df_casos_activos_comuna[\"Mes\"].apply(string_date)"
   ]
  },
  {
   "cell_type": "markdown",
   "metadata": {},
   "source": [
    "*Se exportan los datos en un excel*"
   ]
  },
  {
   "cell_type": "code",
   "execution_count": 21,
   "metadata": {
    "id": "I-agM9-LXjYH"
   },
   "outputs": [],
   "source": [
    "df_casos_activos_comuna.to_excel(\"ActivosDiarios.xlsx\",sheet_name=nombre_hoja,index=False)"
   ]
  }
 ],
 "metadata": {
  "colab": {
   "name": "Covid_O.ipynb",
   "provenance": []
  },
  "kernelspec": {
   "display_name": "Python 3",
   "language": "python",
   "name": "python3"
  },
  "language_info": {
   "codemirror_mode": {
    "name": "ipython",
    "version": 3
   },
   "file_extension": ".py",
   "mimetype": "text/x-python",
   "name": "python",
   "nbconvert_exporter": "python",
   "pygments_lexer": "ipython3",
   "version": "3.8.8"
  }
 },
 "nbformat": 4,
 "nbformat_minor": 4
}
